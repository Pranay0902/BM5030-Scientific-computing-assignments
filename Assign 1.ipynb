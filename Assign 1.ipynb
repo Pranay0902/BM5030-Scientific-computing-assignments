{
 "cells": [
  {
   "cell_type": "code",
   "execution_count": 1,
   "metadata": {},
   "outputs": [],
   "source": [
    "# Import libraries\n",
    "from PIL import Image \n",
    "import numpy as np"
   ]
  },
  {
   "cell_type": "code",
   "execution_count": 2,
   "metadata": {},
   "outputs": [],
   "source": [
    "# import all the images from data which contains 6 screenshots\n",
    "# 3 from web and 3 from desktop on different dates\n",
    "im1 = Image.open(r\"Data\\24th web.png\") \n",
    "im2 = Image.open(r\"Data\\26th web.png\") \n",
    "im3 = Image.open(r\"Data\\1st web.png\") \n",
    "im4 = Image.open(r\"Data\\24th desktop.png\") \n",
    "im5 = Image.open(r\"Data\\24th desktop.png\") \n",
    "im6 = Image.open(r\"Data\\24th desktop.png\") \n",
    "# save the pixels of images in an array which is 3 dimensional\n",
    "# It represents the size of image(1920*1080) and RGB-A of each pixel(colour-opaqueness)\n",
    "ar1 = np.array(im1)\n",
    "ar2 = np.array(im2)\n",
    "ar3 = np.array(im3)\n",
    "ar4 = np.array(im4)\n",
    "ar5 = np.array(im5)\n",
    "ar6 = np.array(im6)\n",
    "# ar is the final array which is 2 dimensional consedering that image is basic object\n",
    "# It represents the type(web/desktop image) and the date of screenshot\n",
    "ar=np.array([[ar1,ar2,ar3],[ar4,ar5,ar6]])"
   ]
  },
  {
   "cell_type": "code",
   "execution_count": 3,
   "metadata": {},
   "outputs": [
    {
     "name": "stdout",
     "output_type": "stream",
     "text": [
      "(2, 3, 1080, 1920, 4)\n",
      "Dimension:5\n"
     ]
    }
   ],
   "source": [
    "# print shape of final array\n",
    "print(ar.shape)\n",
    "final_dimension=len(ar.shape)\n",
    "print(\"Dimension:{}\".format(final_dimension))"
   ]
  },
  {
   "cell_type": "code",
   "execution_count": null,
   "metadata": {},
   "outputs": [],
   "source": []
  }
 ],
 "metadata": {
  "kernelspec": {
   "display_name": "Python 3",
   "language": "python",
   "name": "python3"
  },
  "language_info": {
   "codemirror_mode": {
    "name": "ipython",
    "version": 3
   },
   "file_extension": ".py",
   "mimetype": "text/x-python",
   "name": "python",
   "nbconvert_exporter": "python",
   "pygments_lexer": "ipython3",
   "version": "3.7.6"
  }
 },
 "nbformat": 4,
 "nbformat_minor": 4
}
