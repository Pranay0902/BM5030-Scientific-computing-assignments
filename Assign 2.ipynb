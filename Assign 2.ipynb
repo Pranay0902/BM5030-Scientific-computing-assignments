{
 "cells": [
  {
   "cell_type": "code",
   "execution_count": 1,
   "metadata": {},
   "outputs": [],
   "source": [
    "# Load libraries\n",
    "import numpy as np"
   ]
  },
  {
   "cell_type": "code",
   "execution_count": 2,
   "metadata": {},
   "outputs": [
    {
     "name": "stdout",
     "output_type": "stream",
     "text": [
      "(6, 4)\n",
      "[[0.51064131 0.41821853 0.11066622 0.80089847]\n",
      " [0.51714368 0.03258209 0.83950015 0.12597796]\n",
      " [0.39489994 0.04145781 0.96385097 0.06945781]\n",
      " [0.47433235 0.77882002 0.5348074  0.98744227]\n",
      " [0.56463454 0.0060091  0.90595607 0.05451798]\n",
      " [0.49693528 0.54350653 0.08538033 0.78033091]]\n"
     ]
    }
   ],
   "source": [
    "# Create a random array with given dimension\n",
    "array = np.random.rand(6,4) \n",
    "# Print it for checking\n",
    "print(np.shape(array))\n",
    "print(array)"
   ]
  },
  {
   "cell_type": "code",
   "execution_count": 3,
   "metadata": {},
   "outputs": [
    {
     "name": "stdout",
     "output_type": "stream",
     "text": [
      "Combination of mean and max of rows:\n",
      "Shape: (2, 4)\n",
      "[[0.49309785 0.30343235 0.57336019 0.4697709 ]\n",
      " [0.56463454 0.77882002 0.96385097 0.98744227]]\n",
      "Combination of mean,max,min,sum of all rows:\n",
      "Shape: (4, 4)\n",
      "[[0.49309785 0.30343235 0.57336019 0.4697709 ]\n",
      " [0.56463454 0.77882002 0.96385097 0.98744227]\n",
      " [0.39489994 0.0060091  0.08538033 0.05451798]\n",
      " [2.9585871  1.82059409 3.44016115 2.8186254 ]]\n",
      "Combination of mean,max,min,sum of all columns:\n",
      "Shape: (6, 4)\n",
      "[[0.46010613 0.80089847 0.11066622 1.84042454]\n",
      " [0.37880097 0.83950015 0.03258209 1.51520388]\n",
      " [0.36741663 0.96385097 0.04145781 1.46966654]\n",
      " [0.69385051 0.98744227 0.47433235 2.77540205]\n",
      " [0.38277942 0.90595607 0.0060091  1.5311177 ]\n",
      " [0.47653826 0.78033091 0.08538033 1.90615305]]\n",
      "Shape: (10, 4)\n",
      "[[0.49309785 0.30343235 0.57336019 0.4697709 ]\n",
      " [0.56463454 0.77882002 0.96385097 0.98744227]\n",
      " [0.39489994 0.0060091  0.08538033 0.05451798]\n",
      " [2.9585871  1.82059409 3.44016115 2.8186254 ]\n",
      " [0.46010613 0.80089847 0.11066622 1.84042454]\n",
      " [0.37880097 0.83950015 0.03258209 1.51520388]\n",
      " [0.36741663 0.96385097 0.04145781 1.46966654]\n",
      " [0.69385051 0.98744227 0.47433235 2.77540205]\n",
      " [0.38277942 0.90595607 0.0060091  1.5311177 ]\n",
      " [0.47653826 0.78033091 0.08538033 1.90615305]]\n"
     ]
    }
   ],
   "source": [
    "# Let us use operations like mean, sum,max and create new matrices\n",
    "mean_rows=np.mean(array, axis = 0).reshape(1,4)\n",
    "mean_col=np.mean(array, axis = 1).reshape(6,1)\n",
    "max_rows=np.max(array, axis = 0).reshape(1,4)\n",
    "max_col=np.max(array, axis = 1).reshape(6,1)\n",
    "min_rows=np.min(array, axis = 0).reshape(1,4)\n",
    "min_col=np.min(array, axis = 1).reshape(6,1)\n",
    "sum_rows=np.sum(array, axis = 0).reshape(1,4)\n",
    "sum_col=np.sum(array, axis = 1).reshape(6,1)\n",
    "# A 2x4 array made by combinig mean and max of rows\n",
    "print(\"Combination of mean and max of rows:\")\n",
    "new_array1=np.concatenate((mean_rows,max_rows), axis=0)\n",
    "print('Shape:',np.shape(new_array1))\n",
    "print(new_array1)\n",
    "# A 4x4 array made by combining mean,max,min,sum of all rows\n",
    "print(\"Combination of mean,max,min,sum of all rows:\")\n",
    "new_array2=np.concatenate((mean_rows,max_rows,min_rows,sum_rows), axis=0)\n",
    "print('Shape:',np.shape(new_array2))\n",
    "print(new_array2)\n",
    "# A 6x4 made by combining all operations on columns\n",
    "print(\"Combination of mean,max,min,sum of all columns:\")\n",
    "new_array3=np.concatenate((mean_col,max_col,min_col,sum_col), axis=1)\n",
    "print('Shape:',np.shape(new_array3))\n",
    "print(new_array3)\n",
    "# Until now we only made matrices whose size was smaller than the original matrix\n",
    "# Now let us define a 10x4 matrix by combining array3 and array4\n",
    "new_array4=np.concatenate((new_array2,new_array3),axis=0)\n",
    "print('Shape:',np.shape(new_array4))\n",
    "print(new_array4)"
   ]
  },
  {
   "cell_type": "code",
   "execution_count": 4,
   "metadata": {},
   "outputs": [
    {
     "name": "stdout",
     "output_type": "stream",
     "text": [
      "()\n",
      "0\n"
     ]
    }
   ],
   "source": [
    "# Test case 1 ---  array(0,1)\n",
    "test=array[0,1]\n",
    "print(np.shape(test))\n",
    "print(np.ndim(test))"
   ]
  },
  {
   "cell_type": "code",
   "execution_count": 5,
   "metadata": {},
   "outputs": [
    {
     "name": "stdout",
     "output_type": "stream",
     "text": [
      "()\n",
      "0\n"
     ]
    }
   ],
   "source": [
    "# Test case 2 ---  array(4,3)\n",
    "test=array[4,3]\n",
    "print(np.shape(test))\n",
    "print(np.ndim(test))"
   ]
  },
  {
   "cell_type": "code",
   "execution_count": 6,
   "metadata": {},
   "outputs": [
    {
     "name": "stdout",
     "output_type": "stream",
     "text": [
      "(6,)\n",
      "1\n"
     ]
    }
   ],
   "source": [
    "# Test case 3 ---  array(:,1)\n",
    "test=array[:,1]\n",
    "print(np.shape(test))\n",
    "print(np.ndim(test))"
   ]
  },
  {
   "cell_type": "code",
   "execution_count": 7,
   "metadata": {},
   "outputs": [
    {
     "name": "stdout",
     "output_type": "stream",
     "text": [
      "(4,)\n",
      "1\n"
     ]
    }
   ],
   "source": [
    "# Test case 4 ---  array(1,:)\n",
    "test=array[1,:]\n",
    "print(np.shape(test))\n",
    "print(np.ndim(test))"
   ]
  },
  {
   "cell_type": "code",
   "execution_count": 8,
   "metadata": {
    "scrolled": true
   },
   "outputs": [
    {
     "name": "stdout",
     "output_type": "stream",
     "text": [
      "(6,)\n",
      "1\n"
     ]
    }
   ],
   "source": [
    "# Test case 5 ---  array(3,:)\n",
    "test=array[:,1]\n",
    "print(np.shape(test))\n",
    "print(np.ndim(test))"
   ]
  },
  {
   "cell_type": "code",
   "execution_count": 9,
   "metadata": {},
   "outputs": [
    {
     "name": "stdout",
     "output_type": "stream",
     "text": [
      "[[0.51714368 0.03258209 0.83950015 0.12597796]\n",
      " [0.39489994 0.04145781 0.96385097 0.06945781]\n",
      " [0.47433235 0.77882002 0.5348074  0.98744227]]\n",
      "(3, 4)\n",
      "2\n"
     ]
    }
   ],
   "source": [
    "# Test case 6 ---  array(1:4,:)\n",
    "test=array[1:4,:]\n",
    "print(test)\n",
    "print(np.shape(test))\n",
    "print(np.ndim(test))"
   ]
  },
  {
   "cell_type": "code",
   "execution_count": 10,
   "metadata": {},
   "outputs": [
    {
     "name": "stdout",
     "output_type": "stream",
     "text": [
      "[[0.51064131 0.41821853 0.11066622]\n",
      " [0.51714368 0.03258209 0.83950015]\n",
      " [0.39489994 0.04145781 0.96385097]\n",
      " [0.47433235 0.77882002 0.5348074 ]\n",
      " [0.56463454 0.0060091  0.90595607]\n",
      " [0.49693528 0.54350653 0.08538033]]\n",
      "(6, 3)\n",
      "2\n"
     ]
    }
   ],
   "source": [
    "# Test case 7 ---  array(:,0:3)\n",
    "test=array[:,0:3]\n",
    "print(test)\n",
    "print(np.shape(test))\n",
    "print(np.ndim(test))"
   ]
  },
  {
   "cell_type": "code",
   "execution_count": null,
   "metadata": {},
   "outputs": [],
   "source": []
  }
 ],
 "metadata": {
  "kernelspec": {
   "display_name": "Python 3",
   "language": "python",
   "name": "python3"
  },
  "language_info": {
   "codemirror_mode": {
    "name": "ipython",
    "version": 3
   },
   "file_extension": ".py",
   "mimetype": "text/x-python",
   "name": "python",
   "nbconvert_exporter": "python",
   "pygments_lexer": "ipython3",
   "version": "3.7.6"
  }
 },
 "nbformat": 4,
 "nbformat_minor": 4
}
