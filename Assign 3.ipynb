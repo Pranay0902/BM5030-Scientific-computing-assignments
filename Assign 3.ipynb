{
 "cells": [
  {
   "cell_type": "markdown",
   "metadata": {},
   "source": [
    "# Our data has 3 dimensions\n",
    "1. Year of the top phone release(2016,2017,2020)\n",
    "2. Attributes of the phone(Display,Storage,Battery,Price,Camera(mp))\n",
    "3. Company of a phone(Samsung,Apple,Google)\n",
    "\n",
    "### So order of the data is 3x3x5"
   ]
  },
  {
   "cell_type": "markdown",
   "metadata": {},
   "source": [
    "#### Samsung:\n",
    "          Display   Stroage   Battery   Price   Camera(mp)      \n",
    "    2016   5.5       256      3600     823       12\n",
    "    2017   6.2       256      3500     825       12                                  \n",
    "    2020   6.3       256      4300     1099      16  \n",
    "\n",
    "#### Apple:\n",
    "          Display   Stroage   Battery   Price   Camera(mp)      \n",
    "    2016   5.5      256       2900     1081      12\n",
    "    2017   5.5      256       2675     949       12\n",
    "    2020   6.5      256       3969     1499      12          \n",
    "\n",
    "#### Google:\n",
    "          Display   Stroage   Battery   Price   Camera(mp)      \n",
    "    2016   5.5      128       2700     963       12.3\n",
    "    2017   6.0      128       3300     949       12.2\n",
    "    2020   6.3      128       3700     930       12.2             "
   ]
  },
  {
   "cell_type": "code",
   "execution_count": 1,
   "metadata": {},
   "outputs": [],
   "source": [
    "# import libraries\n",
    "import numpy as np"
   ]
  },
  {
   "cell_type": "code",
   "execution_count": 2,
   "metadata": {},
   "outputs": [
    {
     "name": "stdout",
     "output_type": "stream",
     "text": [
      "(3, 3, 5)\n",
      "[[[   5.5  256.  3600.   823.    12. ]\n",
      "  [   6.2  256.  3500.   825.    12. ]\n",
      "  [   6.3  256.  4300.  1099.    16. ]]\n",
      "\n",
      " [[   5.5  256.  2900.  1081.    12. ]\n",
      "  [   5.5  256.  2675.   949.    12. ]\n",
      "  [   6.5  256.  3696.  1499.    12. ]]\n",
      "\n",
      " [[   5.5  128.  2700.   963.    12.3]\n",
      "  [   6.   128.  3300.   949.    12.2]\n",
      "  [   6.3  128.  3700.   930.    12.2]]]\n"
     ]
    }
   ],
   "source": [
    "# Save the data in a matrix arr\n",
    "arr=np.array([ [\n",
    "                 [5.5,256,3600,823,12],\n",
    "                 [6.2,256,3500,825,12],\n",
    "                 [6.3,256,4300,1099,16] ],\n",
    "                [\n",
    "                 [5.5,256,2900,1081,12],\n",
    "                 [5.5,256,2675,949,12],\n",
    "                 [6.5,256,3696,1499,12] ],  \n",
    "                [\n",
    "                 [5.5,128,2700,963,12.3],\n",
    "                 [6.0,128,3300,949,12.2],\n",
    "                 [6.3,128,3700,930,12.2] ] ] ) \n",
    "# Print the order of array\n",
    "print(np.shape(arr))\n",
    "# Print the array\n",
    "print(arr)"
   ]
  },
  {
   "cell_type": "markdown",
   "metadata": {},
   "source": [
    "## Let us try to collapse it to 2 dimension first\n",
    "### Now suppose we want see how the attributes of phones are changing across the years irrespective of company we can collapse the company dimension by taking average of attributes for a given year"
   ]
  },
  {
   "cell_type": "code",
   "execution_count": 3,
   "metadata": {},
   "outputs": [
    {
     "name": "stdout",
     "output_type": "stream",
     "text": [
      "(3, 5)\n",
      "[[   5.5         213.33333333 3066.66666667  955.66666667   12.1       ]\n",
      " [   5.9         213.33333333 3158.33333333  907.66666667   12.06666667]\n",
      " [   6.36666667  213.33333333 3898.66666667 1176.           13.4       ]]\n"
     ]
    }
   ],
   "source": [
    "# Take mean over for a particular year over different companies\n",
    "Dim2_1=np.mean(arr,axis=0)\n",
    "# Print the order of array\n",
    "print(np.shape(Dim2_1))\n",
    "# Print the array\n",
    "print(Dim2_1)"
   ]
  },
  {
   "cell_type": "markdown",
   "metadata": {},
   "source": [
    "#### Looking at the data now we can see that year by the all the features and the price keep increasing \n",
    "\n",
    "### Now suppose we want to compare how the attributes of phones are varying with companies on a paricular year we can collapse the year dimension by chossing only a particular year or by taking sum for all companies"
   ]
  },
  {
   "cell_type": "code",
   "execution_count": 4,
   "metadata": {},
   "outputs": [
    {
     "name": "stdout",
     "output_type": "stream",
     "text": [
      "(3, 5)\n",
      "[[   6.          256.         3800.          915.66666667   13.33333333]\n",
      " [   5.83333333  256.         3090.33333333 1176.33333333   12.        ]\n",
      " [   5.93333333  128.         3233.33333333  947.33333333   12.23333333]]\n"
     ]
    }
   ],
   "source": [
    "# Take mean over for a particular year over different companies\n",
    "Dim2_2=np.mean(arr,axis=1)\n",
    "# Print the order of array\n",
    "print(np.shape(Dim2_2))\n",
    "# Print the array\n",
    "print(Dim2_2)"
   ]
  },
  {
   "cell_type": "markdown",
   "metadata": {},
   "source": [
    "#### Looking at the data now we can see that features like display size or battery capacity are more for Samsung company while the price is more for Apple\n",
    "\n",
    "### Now only one 2 dimensional reduction is left. That is collapsing the attributes dimension, It doesn't make sense if we take average or max in this dimenson as different attribute cannot be added or compared. Insteasd we choose only one attribute to collapse the whole dimension"
   ]
  },
  {
   "cell_type": "code",
   "execution_count": 5,
   "metadata": {},
   "outputs": [
    {
     "name": "stdout",
     "output_type": "stream",
     "text": [
      "(3, 3)\n",
      "[[ 823.  825. 1099.]\n",
      " [1081.  949. 1499.]\n",
      " [ 963.  949.  930.]]\n"
     ]
    }
   ],
   "source": [
    "Dim2_3=arr[:,:,3]\n",
    "# Print the order of array\n",
    "print(np.shape(Dim2_3))\n",
    "# Print the array\n",
    "print(Dim2_3)"
   ]
  },
  {
   "cell_type": "markdown",
   "metadata": {},
   "source": [
    "#### Looking at the data now we can see that Samsung keeps increasing it's price year by year. While google tries to make them cheaper\n",
    "\n",
    "## As we are done with collapsing 1 dimension let's collapse 2 dimensions\n",
    "\n",
    "### There are many possible cases so let's decide what we want first and then collapse the dimensions"
   ]
  },
  {
   "cell_type": "markdown",
   "metadata": {},
   "source": [
    "###  1. Suppose we want see how storages of phones are varying by years.We need to collapse the attribute dimension by choosing only 1 attribute and the company dimension by taking average over companies"
   ]
  },
  {
   "cell_type": "code",
   "execution_count": 6,
   "metadata": {},
   "outputs": [
    {
     "name": "stdout",
     "output_type": "stream",
     "text": [
      "(3,)\n",
      "[213.33333333 213.33333333 213.33333333]\n"
     ]
    }
   ],
   "source": [
    "# As we already have the array with average over companies now we need to choose the storage attribute\n",
    "Dim1_1=Dim2_1[:,1]\n",
    "# Print the order of array\n",
    "print(np.shape(Dim1_1))\n",
    "# Print the array\n",
    "print(Dim1_1)"
   ]
  },
  {
   "cell_type": "markdown",
   "metadata": {},
   "source": [
    "#### As we can see the storage didn't change over the years. This indicates the we have already reached the maximum storage a phone requires.\n",
    "\n",
    "### 2.Now let us see how the battery capacities are varying with different companies. For this we need to collapse the year dimension by taking average over year and the attribute dimension by selscting one attribute"
   ]
  },
  {
   "cell_type": "code",
   "execution_count": 7,
   "metadata": {},
   "outputs": [
    {
     "name": "stdout",
     "output_type": "stream",
     "text": [
      "(3,)\n",
      "[3800.         3090.33333333 3233.33333333]\n"
     ]
    }
   ],
   "source": [
    "# As we already have the array with average over years now we need to choose the battery attribute\n",
    "Dim1_2=Dim2_2[:,2]\n",
    "# Print the order of array\n",
    "print(np.shape(Dim1_2))\n",
    "# Print the array\n",
    "print(Dim1_2)"
   ]
  },
  {
   "cell_type": "markdown",
   "metadata": {},
   "source": [
    "#### Looking at the array we can conclude that Samsung offers the most battery capacity while Apple offers the least battery capacity"
   ]
  },
  {
   "cell_type": "code",
   "execution_count": null,
   "metadata": {},
   "outputs": [],
   "source": []
  }
 ],
 "metadata": {
  "kernelspec": {
   "display_name": "Python 3",
   "language": "python",
   "name": "python3"
  },
  "language_info": {
   "codemirror_mode": {
    "name": "ipython",
    "version": 3
   },
   "file_extension": ".py",
   "mimetype": "text/x-python",
   "name": "python",
   "nbconvert_exporter": "python",
   "pygments_lexer": "ipython3",
   "version": "3.7.6"
  }
 },
 "nbformat": 4,
 "nbformat_minor": 4
}
